{
 "cells": [
  {
   "cell_type": "markdown",
   "metadata": {
    "application/vnd.databricks.v1+cell": {
     "inputWidgets": {},
     "nuid": "ca41eebf-d902-4fa0-8d55-5202cb75af6c",
     "showTitle": false,
     "title": ""
    }
   },
   "source": [
    "# Projet 8 : Déployer un modèle dans le cloud"
   ]
  },
  {
   "cell_type": "markdown",
   "metadata": {},
   "source": [
    "## I - Présentation du projet"
   ]
  },
  {
   "cell_type": "markdown",
   "metadata": {},
   "source": [
    "Ce projet s'inscrit dans le cadre du développement d'une application mobile qui permettrait aux utilisateurs de prendre en photo un fruit et d'obtenir des informations sur ce fruit.\n",
    "\n",
    "L'objectif de ce projet est de développer un environnement Big Data qui comprendra le preprocessing et une étape de réduction de dimension."
   ]
  },
  {
   "attachments": {
    "fruits.png": {
     "image/png": "[encoded data removed]"
    }
   },
   "cell_type": "markdown",
   "metadata": {},
   "source": [
    "![fruits.png](attachment:fruits.png)"
   ]
  },
  {
   "cell_type": "markdown",
   "metadata": {},
   "source": [
    "## Banque d'images"
   ]
  },
  {
   "cell_type": "markdown",
   "metadata": {},
   "source": [
    "Le jeu de données est un ensemble d'images de fruits et de labels associés :\n",
    "https://www.kaggle.com/moltean/fruits"
   ]
  },
  {
   "cell_type": "markdown",
   "metadata": {},
   "source": [
    "### Chargement des librairies"
   ]
  },
  {
   "cell_type": "code",
   "execution_count": null,
   "metadata": {},
   "outputs": [],
   "source": [
    "import time\n",
    "import pandas as pd\n",
    "from PIL import Image\n",
    "import numpy as np\n",
    "import io\n",
    "\n",
    "import tensorflow as tf\n",
    "from tensorflow.keras.applications.resnet50 import ResNet50, preprocess_input\n",
    "from tensorflow.keras.preprocessing.image import img_to_array\n",
    "\n",
    "from pyspark.sql.functions import col, pandas_udf, PandasUDFType"
   ]
  },
  {
   "cell_type": "code",
   "execution_count": 0,
   "metadata": {
    "application/vnd.databricks.v1+cell": {
     "inputWidgets": {},
     "nuid": "8021af65-34b4-48c8-8344-476268045e53",
     "showTitle": false,
     "title": ""
    }
   },
   "outputs": [
    {
     "data": {
      "text/html": [
       "<style scoped>\n",
       "  .ansiout {\n",
       "    display: block;\n",
       "    unicode-bidi: embed;\n",
       "    white-space: pre-wrap;\n",
       "    word-wrap: break-word;\n",
       "    word-break: break-all;\n",
       "    font-family: \"Source Code Pro\", \"Menlo\", monospace;;\n",
       "    font-size: 13px;\n",
       "    color: #555;\n",
       "    margin-left: 4px;\n",
       "    line-height: 19px;\n",
       "  }\n",
       "</style>\n",
       "<div class=\"ansiout\"></div>"
      ]
     },
     "metadata": {
      "application/vnd.databricks.v1+output": {
       "addedWidgets": {},
       "arguments": {},
       "data": "<div class=\"ansiout\"></div>",
       "datasetInfos": [],
       "metadata": {},
       "removedWidgets": [],
       "type": "html"
      }
     },
     "output_type": "display_data"
    }
   ],
   "source": [
    "# data handling\n",
    "from pyspark.sql.functions import element_at, split\n",
    "from pyspark.sql.functions import pandas_udf, PandasUDFType\n",
    "# from pyspark.sql.functions import col\n",
    "from pyspark.sql.functions import udf\n",
    "from pyspark.sql.types import *\n",
    "from typing import Iterator"
   ]
  },
  {
   "cell_type": "code",
   "execution_count": 0,
   "metadata": {
    "application/vnd.databricks.v1+cell": {
     "inputWidgets": {},
     "nuid": "26b97c93-ed36-4879-a9f5-cca2a5982350",
     "showTitle": false,
     "title": ""
    }
   },
   "outputs": [
    {
     "data": {
      "text/html": [
       "<style scoped>\n",
       "  .ansiout {\n",
       "    display: block;\n",
       "    unicode-bidi: embed;\n",
       "    white-space: pre-wrap;\n",
       "    word-wrap: break-word;\n",
       "    word-break: break-all;\n",
       "    font-family: \"Source Code Pro\", \"Menlo\", monospace;;\n",
       "    font-size: 13px;\n",
       "    color: #555;\n",
       "    margin-left: 4px;\n",
       "    line-height: 19px;\n",
       "  }\n",
       "</style>\n",
       "<div class=\"ansiout\">Out[3]: &#39;2.10.0&#39;</div>"
      ]
     },
     "metadata": {
      "application/vnd.databricks.v1+output": {
       "addedWidgets": {},
       "arguments": {},
       "data": "<div class=\"ansiout\">Out[3]: &#39;2.10.0&#39;</div>",
       "datasetInfos": [],
       "metadata": {},
       "removedWidgets": [],
       "type": "html"
      }
     },
     "output_type": "display_data"
    }
   ],
   "source": [
    "# core featurizer\n",
    "tf.__version__"
   ]
  },
  {
   "cell_type": "code",
   "execution_count": 0,
   "metadata": {
    "application/vnd.databricks.v1+cell": {
     "inputWidgets": {},
     "nuid": "3bdc03aa-29c1-4930-9dce-85b43e11ed80",
     "showTitle": false,
     "title": ""
    }
   },
   "outputs": [
    {
     "data": {
      "text/html": [
       "<style scoped>\n",
       "  .ansiout {\n",
       "    display: block;\n",
       "    unicode-bidi: embed;\n",
       "    white-space: pre-wrap;\n",
       "    word-wrap: break-word;\n",
       "    word-break: break-all;\n",
       "    font-family: \"Source Code Pro\", \"Menlo\", monospace;;\n",
       "    font-size: 13px;\n",
       "    color: #555;\n",
       "    margin-left: 4px;\n",
       "    line-height: 19px;\n",
       "  }\n",
       "</style>\n",
       "<div class=\"ansiout\"></div>"
      ]
     },
     "metadata": {
      "application/vnd.databricks.v1+output": {
       "addedWidgets": {},
       "arguments": {},
       "data": "<div class=\"ansiout\"></div>",
       "datasetInfos": [],
       "metadata": {},
       "removedWidgets": [],
       "type": "html"
      }
     },
     "output_type": "display_data"
    }
   ],
   "source": [
    "path_work = \"s3://elfenaouy/Images/*\""
   ]
  },
  {
   "cell_type": "code",
   "execution_count": 0,
   "metadata": {
    "application/vnd.databricks.v1+cell": {
     "inputWidgets": {},
     "nuid": "be7a37bc-854b-4e0e-beb8-b95b51599f61",
     "showTitle": false,
     "title": ""
    }
   },
   "outputs": [
    {
     "data": {
      "text/html": [
       "<style scoped>\n",
       "  .ansiout {\n",
       "    display: block;\n",
       "    unicode-bidi: embed;\n",
       "    white-space: pre-wrap;\n",
       "    word-wrap: break-word;\n",
       "    word-break: break-all;\n",
       "    font-family: \"Source Code Pro\", \"Menlo\", monospace;;\n",
       "    font-size: 13px;\n",
       "    color: #555;\n",
       "    margin-left: 4px;\n",
       "    line-height: 19px;\n",
       "  }\n",
       "</style>\n",
       "<div class=\"ansiout\">data load with spark.read, elapsed time: 3.02s\n",
       "</div>"
      ]
     },
     "metadata": {
      "application/vnd.databricks.v1+output": {
       "addedWidgets": {},
       "arguments": {},
       "data": "<div class=\"ansiout\">data load with spark.read, elapsed time: 3.02s\n</div>",
       "datasetInfos": [],
       "metadata": {},
       "removedWidgets": [],
       "type": "html"
      }
     },
     "output_type": "display_data"
    }
   ],
   "source": [
    "# function to load data into into a spark_df\n",
    "# with spaces of folder's name removed first, inferschema optional here\n",
    "start = time.perf_counter()\n",
    "df_img = spark.read.format('binaryFile').load(path_work, inferschema=True) \n",
    "stop = time.perf_counter()\n",
    "print(f'data load with spark.read, elapsed time: {stop - start:0.2f}s')"
   ]
  },
  {
   "cell_type": "code",
   "execution_count": 0,
   "metadata": {
    "application/vnd.databricks.v1+cell": {
     "inputWidgets": {},
     "nuid": "ab5cee68-412e-48d1-b1ab-2a6be4c18d22",
     "showTitle": false,
     "title": ""
    }
   },
   "outputs": [
    {
     "data": {
      "text/html": [
       "<style scoped>\n",
       "  .ansiout {\n",
       "    display: block;\n",
       "    unicode-bidi: embed;\n",
       "    white-space: pre-wrap;\n",
       "    word-wrap: break-word;\n",
       "    word-break: break-all;\n",
       "    font-family: \"Source Code Pro\", \"Menlo\", monospace;;\n",
       "    font-size: 13px;\n",
       "    color: #555;\n",
       "    margin-left: 4px;\n",
       "    line-height: 19px;\n",
       "  }\n",
       "</style>\n",
       "<div class=\"ansiout\">Out[6]: 75</div>"
      ]
     },
     "metadata": {
      "application/vnd.databricks.v1+output": {
       "addedWidgets": {},
       "arguments": {},
       "data": "<div class=\"ansiout\">Out[6]: 75</div>",
       "datasetInfos": [],
       "metadata": {},
       "removedWidgets": [],
       "type": "html"
      }
     },
     "output_type": "display_data"
    }
   ],
   "source": [
    "# number of images in this sample\n",
    "df_img.count()"
   ]
  },
  {
   "cell_type": "code",
   "execution_count": 0,
   "metadata": {
    "application/vnd.databricks.v1+cell": {
     "inputWidgets": {},
     "nuid": "6f64a77a-afbb-4a46-90c7-9629ed653a87",
     "showTitle": false,
     "title": ""
    }
   },
   "outputs": [
    {
     "data": {
      "text/html": [
       "<style scoped>\n",
       "  .ansiout {\n",
       "    display: block;\n",
       "    unicode-bidi: embed;\n",
       "    white-space: pre-wrap;\n",
       "    word-wrap: break-word;\n",
       "    word-break: break-all;\n",
       "    font-family: \"Source Code Pro\", \"Menlo\", monospace;;\n",
       "    font-size: 13px;\n",
       "    color: #555;\n",
       "    margin-left: 4px;\n",
       "    line-height: 19px;\n",
       "  }\n",
       "</style>\n",
       "<div class=\"ansiout\">+--------------------+-------------------+------+--------------------+\n",
       "                path|   modificationTime|length|             content|\n",
       "+--------------------+-------------------+------+--------------------+\n",
       "s3://elfenaouy/Im...|2022-10-14 23:27:02|  6119|[FF D8 FF E0 00 1...|\n",
       "s3://elfenaouy/Im...|2022-10-14 23:43:09|  5811|[FF D8 FF E0 00 1...|\n",
       "s3://elfenaouy/Im...|2022-10-14 23:27:11|  5805|[FF D8 FF E0 00 1...|\n",
       "s3://elfenaouy/Im...|2022-10-14 23:27:16|  5758|[FF D8 FF E0 00 1...|\n",
       "s3://elfenaouy/Im...|2022-10-14 23:43:03|  5616|[FF D8 FF E0 00 1...|\n",
       "s3://elfenaouy/Im...|2022-10-14 23:30:22|  5515|[FF D8 FF E0 00 1...|\n",
       "s3://elfenaouy/Im...|2022-10-14 23:30:18|  5499|[FF D8 FF E0 00 1...|\n",
       "s3://elfenaouy/Im...|2022-10-14 23:30:13|  5462|[FF D8 FF E0 00 1...|\n",
       "s3://elfenaouy/Im...|2022-10-14 23:43:14|  5314|[FF D8 FF E0 00 1...|\n",
       "s3://elfenaouy/Im...|2022-10-14 23:57:47|  5292|[FF D8 FF E0 00 1...|\n",
       "s3://elfenaouy/Im...|2022-10-14 23:45:09|  5272|[FF D8 FF E0 00 1...|\n",
       "s3://elfenaouy/Im...|2022-10-14 23:44:44|  5246|[FF D8 FF E0 00 1...|\n",
       "s3://elfenaouy/Im...|2022-10-14 23:57:46|  5240|[FF D8 FF E0 00 1...|\n",
       "s3://elfenaouy/Im...|2022-10-14 23:45:02|  5215|[FF D8 FF E0 00 1...|\n",
       "s3://elfenaouy/Im...|2022-10-14 23:53:30|  5153|[FF D8 FF E0 00 1...|\n",
       "s3://elfenaouy/Im...|2022-10-14 23:53:23|  5149|[FF D8 FF E0 00 1...|\n",
       "s3://elfenaouy/Im...|2022-10-14 23:57:47|  5075|[FF D8 FF E0 00 1...|\n",
       "s3://elfenaouy/Im...|2022-10-14 23:53:27|  5074|[FF D8 FF E0 00 1...|\n",
       "s3://elfenaouy/Im...|2022-10-15 00:03:14|  5047|[FF D8 FF E0 00 1...|\n",
       "s3://elfenaouy/Im...|2022-10-14 23:23:09|  4941|[FF D8 FF E0 00 1...|\n",
       "+--------------------+-------------------+------+--------------------+\n",
       "only showing top 20 rows\n",
       "\n",
       "data load with spark.read, elapsed time: 4.60s\n",
       "</div>"
      ]
     },
     "metadata": {
      "application/vnd.databricks.v1+output": {
       "addedWidgets": {},
       "arguments": {},
       "data": "<div class=\"ansiout\">+--------------------+-------------------+------+--------------------+\n|                path|   modificationTime|length|             content|\n+--------------------+-------------------+------+--------------------+\n|s3://elfenaouy/Im...|2022-10-14 23:27:02|  6119|[FF D8 FF E0 00 1...|\n|s3://elfenaouy/Im...|2022-10-14 23:43:09|  5811|[FF D8 FF E0 00 1...|\n|s3://elfenaouy/Im...|2022-10-14 23:27:11|  5805|[FF D8 FF E0 00 1...|\n|s3://elfenaouy/Im...|2022-10-14 23:27:16|  5758|[FF D8 FF E0 00 1...|\n|s3://elfenaouy/Im...|2022-10-14 23:43:03|  5616|[FF D8 FF E0 00 1...|\n|s3://elfenaouy/Im...|2022-10-14 23:30:22|  5515|[FF D8 FF E0 00 1...|\n|s3://elfenaouy/Im...|2022-10-14 23:30:18|  5499|[FF D8 FF E0 00 1...|\n|s3://elfenaouy/Im...|2022-10-14 23:30:13|  5462|[FF D8 FF E0 00 1...|\n|s3://elfenaouy/Im...|2022-10-14 23:43:14|  5314|[FF D8 FF E0 00 1...|\n|s3://elfenaouy/Im...|2022-10-14 23:57:47|  5292|[FF D8 FF E0 00 1...|\n|s3://elfenaouy/Im...|2022-10-14 23:45:09|  5272|[FF D8 FF E0 00 1...|\n|s3://elfenaouy/Im...|2022-10-14 23:44:44|  5246|[FF D8 FF E0 00 1...|\n|s3://elfenaouy/Im...|2022-10-14 23:57:46|  5240|[FF D8 FF E0 00 1...|\n|s3://elfenaouy/Im...|2022-10-14 23:45:02|  5215|[FF D8 FF E0 00 1...|\n|s3://elfenaouy/Im...|2022-10-14 23:53:30|  5153|[FF D8 FF E0 00 1...|\n|s3://elfenaouy/Im...|2022-10-14 23:53:23|  5149|[FF D8 FF E0 00 1...|\n|s3://elfenaouy/Im...|2022-10-14 23:57:47|  5075|[FF D8 FF E0 00 1...|\n|s3://elfenaouy/Im...|2022-10-14 23:53:27|  5074|[FF D8 FF E0 00 1...|\n|s3://elfenaouy/Im...|2022-10-15 00:03:14|  5047|[FF D8 FF E0 00 1...|\n|s3://elfenaouy/Im...|2022-10-14 23:23:09|  4941|[FF D8 FF E0 00 1...|\n+--------------------+-------------------+------+--------------------+\nonly showing top 20 rows\n\ndata load with spark.read, elapsed time: 4.60s\n</div>",
       "datasetInfos": [],
       "metadata": {},
       "removedWidgets": [],
       "type": "html"
      }
     },
     "output_type": "display_data"
    }
   ],
   "source": [
    "start = time.perf_counter()\n",
    "df_img.show(20)\n",
    "stop = time.perf_counter()\n",
    "print(f'data load with spark.read, elapsed time: {stop - start:0.2f}s')"
   ]
  },
  {
   "cell_type": "code",
   "execution_count": 0,
   "metadata": {
    "application/vnd.databricks.v1+cell": {
     "inputWidgets": {},
     "nuid": "593bee04-4a9e-4fb4-9a98-63c19f433a5b",
     "showTitle": false,
     "title": ""
    }
   },
   "outputs": [
    {
     "data": {
      "text/html": [
       "<style scoped>\n",
       "  .ansiout {\n",
       "    display: block;\n",
       "    unicode-bidi: embed;\n",
       "    white-space: pre-wrap;\n",
       "    word-wrap: break-word;\n",
       "    word-break: break-all;\n",
       "    font-family: \"Source Code Pro\", \"Menlo\", monospace;;\n",
       "    font-size: 13px;\n",
       "    color: #555;\n",
       "    margin-left: 4px;\n",
       "    line-height: 19px;\n",
       "  }\n",
       "</style>\n",
       "<div class=\"ansiout\">root\n",
       "-- path: string (nullable = true)\n",
       "-- modificationTime: timestamp (nullable = true)\n",
       "-- length: long (nullable = true)\n",
       "-- content: binary (nullable = true)\n",
       "\n",
       "</div>"
      ]
     },
     "metadata": {
      "application/vnd.databricks.v1+output": {
       "addedWidgets": {},
       "arguments": {},
       "data": "<div class=\"ansiout\">root\n |-- path: string (nullable = true)\n |-- modificationTime: timestamp (nullable = true)\n |-- length: long (nullable = true)\n |-- content: binary (nullable = true)\n\n</div>",
       "datasetInfos": [],
       "metadata": {},
       "removedWidgets": [],
       "type": "html"
      }
     },
     "output_type": "display_data"
    }
   ],
   "source": [
    "# display DataFrame schema \n",
    "df_img.printSchema()"
   ]
  },
  {
   "cell_type": "code",
   "execution_count": 0,
   "metadata": {
    "application/vnd.databricks.v1+cell": {
     "inputWidgets": {},
     "nuid": "9a8a13d2-ce73-4fdc-9206-80bc2d53a554",
     "showTitle": false,
     "title": ""
    }
   },
   "outputs": [
    {
     "data": {
      "text/html": [
       "<style scoped>\n",
       "  .ansiout {\n",
       "    display: block;\n",
       "    unicode-bidi: embed;\n",
       "    white-space: pre-wrap;\n",
       "    word-wrap: break-word;\n",
       "    word-break: break-all;\n",
       "    font-family: \"Source Code Pro\", \"Menlo\", monospace;;\n",
       "    font-size: 13px;\n",
       "    color: #555;\n",
       "    margin-left: 4px;\n",
       "    line-height: 19px;\n",
       "  }\n",
       "</style>\n",
       "<div class=\"ansiout\">-RECORD 0--------------------------------------------\n",
       " path | s3://elfenaouy/Images/Cauliflower/70_100.jpg \n",
       "only showing top 1 row\n",
       "\n",
       "</div>"
      ]
     },
     "metadata": {
      "application/vnd.databricks.v1+output": {
       "addedWidgets": {},
       "arguments": {},
       "data": "<div class=\"ansiout\">-RECORD 0--------------------------------------------\n path | s3://elfenaouy/Images/Cauliflower/70_100.jpg \nonly showing top 1 row\n\n</div>",
       "datasetInfos": [],
       "metadata": {},
       "removedWidgets": [],
       "type": "html"
      }
     },
     "output_type": "display_data"
    }
   ],
   "source": [
    "# origin detail\n",
    "df_img.select('path').show(1, False, True)"
   ]
  },
  {
   "cell_type": "code",
   "execution_count": 0,
   "metadata": {
    "application/vnd.databricks.v1+cell": {
     "inputWidgets": {},
     "nuid": "55880553-3e07-4882-836c-451e6939aadd",
     "showTitle": false,
     "title": ""
    }
   },
   "outputs": [
    {
     "data": {
      "text/html": [
       "<style scoped>\n",
       "  .ansiout {\n",
       "    display: block;\n",
       "    unicode-bidi: embed;\n",
       "    white-space: pre-wrap;\n",
       "    word-wrap: break-word;\n",
       "    word-break: break-all;\n",
       "    font-family: \"Source Code Pro\", \"Menlo\", monospace;;\n",
       "    font-size: 13px;\n",
       "    color: #555;\n",
       "    margin-left: 4px;\n",
       "    line-height: 19px;\n",
       "  }\n",
       "</style>\n",
       "<div class=\"ansiout\"></div>"
      ]
     },
     "metadata": {
      "application/vnd.databricks.v1+output": {
       "addedWidgets": {},
       "arguments": {},
       "data": "<div class=\"ansiout\"></div>",
       "datasetInfos": [],
       "metadata": {},
       "removedWidgets": [],
       "type": "html"
      }
     },
     "output_type": "display_data"
    }
   ],
   "source": [
    "# extract label from image.origin\n",
    "df_img = df_img.withColumn('label', element_at(split(df_img['path'], \"/\"), -2))"
   ]
  },
  {
   "cell_type": "code",
   "execution_count": 0,
   "metadata": {
    "application/vnd.databricks.v1+cell": {
     "inputWidgets": {},
     "nuid": "76ee3c1a-dcc0-4470-ae05-75f47db1b613",
     "showTitle": false,
     "title": ""
    }
   },
   "outputs": [
    {
     "data": {
      "text/html": [
       "<style scoped>\n",
       "  .ansiout {\n",
       "    display: block;\n",
       "    unicode-bidi: embed;\n",
       "    white-space: pre-wrap;\n",
       "    word-wrap: break-word;\n",
       "    word-break: break-all;\n",
       "    font-family: \"Source Code Pro\", \"Menlo\", monospace;;\n",
       "    font-size: 13px;\n",
       "    color: #555;\n",
       "    margin-left: 4px;\n",
       "    line-height: 19px;\n",
       "  }\n",
       "</style>\n",
       "<div class=\"ansiout\">+--------------------+--------------------+-----------+\n",
       "                path|             content|      label|\n",
       "+--------------------+--------------------+-----------+\n",
       "s3://elfenaouy/Im...|[FF D8 FF E0 00 1...|Cauliflower|\n",
       "+--------------------+--------------------+-----------+\n",
       "only showing top 1 row\n",
       "\n",
       "</div>"
      ]
     },
     "metadata": {
      "application/vnd.databricks.v1+output": {
       "addedWidgets": {},
       "arguments": {},
       "data": "<div class=\"ansiout\">+--------------------+--------------------+-----------+\n|                path|             content|      label|\n+--------------------+--------------------+-----------+\n|s3://elfenaouy/Im...|[FF D8 FF E0 00 1...|Cauliflower|\n+--------------------+--------------------+-----------+\nonly showing top 1 row\n\n</div>",
       "datasetInfos": [],
       "metadata": {},
       "removedWidgets": [],
       "type": "html"
      }
     },
     "output_type": "display_data"
    }
   ],
   "source": [
    "# show first 3 rows with image struct detailed\n",
    "df_img.select('path','content','label').show(1, True)"
   ]
  },
  {
   "cell_type": "markdown",
   "metadata": {
    "application/vnd.databricks.v1+cell": {
     "inputWidgets": {},
     "nuid": "3c2aa8cd-aa53-44ac-a14e-1302f056012b",
     "showTitle": false,
     "title": ""
    }
   },
   "source": [
    "# Use of a CNN as feature extractor"
   ]
  },
  {
   "cell_type": "code",
   "execution_count": 0,
   "metadata": {
    "application/vnd.databricks.v1+cell": {
     "inputWidgets": {},
     "nuid": "9ec85c4c-ed3d-4fdc-8c3b-21710795006a",
     "showTitle": false,
     "title": ""
    }
   },
   "outputs": [
    {
     "data": {
      "text/html": [
       "<style scoped>\n",
       "  .ansiout {\n",
       "    display: block;\n",
       "    unicode-bidi: embed;\n",
       "    white-space: pre-wrap;\n",
       "    word-wrap: break-word;\n",
       "    word-break: break-all;\n",
       "    font-family: \"Source Code Pro\", \"Menlo\", monospace;;\n",
       "    font-size: 13px;\n",
       "    color: #555;\n",
       "    margin-left: 4px;\n",
       "    line-height: 19px;\n",
       "  }\n",
       "</style>\n",
       "<div class=\"ansiout\"></div>"
      ]
     },
     "metadata": {
      "application/vnd.databricks.v1+output": {
       "addedWidgets": {},
       "arguments": {},
       "data": "<div class=\"ansiout\"></div>",
       "datasetInfos": [],
       "metadata": {},
       "removedWidgets": [],
       "type": "html"
      }
     },
     "output_type": "display_data"
    }
   ],
   "source": [
    "import tensorflow as tf\n",
    "from tensorflow.keras.applications.resnet50 import ResNet50, preprocess_input\n",
    "from tensorflow.keras.preprocessing.image import img_to_array\n",
    "\n",
    "from pyspark.sql.functions import col, pandas_udf, PandasUDFType"
   ]
  },
  {
   "cell_type": "code",
   "execution_count": 0,
   "metadata": {
    "application/vnd.databricks.v1+cell": {
     "inputWidgets": {},
     "nuid": "76b9acaa-704f-42e7-92c3-da7dedf047ea",
     "showTitle": false,
     "title": ""
    }
   },
   "outputs": [
    {
     "data": {
      "text/html": [
       "<style scoped>\n",
       "  .ansiout {\n",
       "    display: block;\n",
       "    unicode-bidi: embed;\n",
       "    white-space: pre-wrap;\n",
       "    word-wrap: break-word;\n",
       "    word-break: break-all;\n",
       "    font-family: \"Source Code Pro\", \"Menlo\", monospace;;\n",
       "    font-size: 13px;\n",
       "    color: #555;\n",
       "    margin-left: 4px;\n",
       "    line-height: 19px;\n",
       "  }\n",
       "</style>\n",
       "<div class=\"ansiout\">Downloading data from https://storage.googleapis.com/tensorflow/keras-applications/resnet/resnet50_weights_tf_dim_ordering_tf_kernels_notop.h5\n",
       "\r",
       "    8192/94765736 [..............................] - ETA: 0s\b\b\b\b\b\b\b\b\b\b\b\b\b\b\b\b\b\b\b\b\b\b\b\b\b\b\b\b\b\b\b\b\b\b\b\b\b\b\b\b\b\b\b\b\b\b\b\b\b\b\b\b\b\b\b\b\b\b\b\b\r",
       "  245760/94765736 [..............................] - ETA: 19s\b\b\b\b\b\b\b\b\b\b\b\b\b\b\b\b\b\b\b\b\b\b\b\b\b\b\b\b\b\b\b\b\b\b\b\b\b\b\b\b\b\b\b\b\b\b\b\b\b\b\b\b\b\b\b\b\b\b\b\b\b\r",
       " 3407872/94765736 [&gt;.............................] - ETA: 2s \b\b\b\b\b\b\b\b\b\b\b\b\b\b\b\b\b\b\b\b\b\b\b\b\b\b\b\b\b\b\b\b\b\b\b\b\b\b\b\b\b\b\b\b\b\b\b\b\b\b\b\b\b\b\b\b\b\b\b\b\r",
       " 5275648/94765736 [&gt;.............................] - ETA: 2s\b\b\b\b\b\b\b\b\b\b\b\b\b\b\b\b\b\b\b\b\b\b\b\b\b\b\b\b\b\b\b\b\b\b\b\b\b\b\b\b\b\b\b\b\b\b\b\b\b\b\b\b\b\b\b\b\b\b\b\b\r",
       "11558912/94765736 [==&gt;...........................] - ETA: 1s\b\b\b\b\b\b\b\b\b\b\b\b\b\b\b\b\b\b\b\b\b\b\b\b\b\b\b\b\b\b\b\b\b\b\b\b\b\b\b\b\b\b\b\b\b\b\b\b\b\b\b\b\b\b\b\b\b\b\b\b\r",
       "16957440/94765736 [====&gt;.........................] - ETA: 1s\b\b\b\b\b\b\b\b\b\b\b\b\b\b\b\b\b\b\b\b\b\b\b\b\b\b\b\b\b\b\b\b\b\b\b\b\b\b\b\b\b\b\b\b\b\b\b\b\b\b\b\b\b\b\b\b\b\b\b\b\r",
       "23994368/94765736 [======&gt;.......................] - ETA: 0s\b\b\b\b\b\b\b\b\b\b\b\b\b\b\b\b\b\b\b\b\b\b\b\b\b\b\b\b\b\b\b\b\b\b\b\b\b\b\b\b\b\b\b\b\b\b\b\b\b\b\b\b\b\b\b\b\b\b\b\b\r",
       "30744576/94765736 [========&gt;.....................] - ETA: 0s\b\b\b\b\b\b\b\b\b\b\b\b\b\b\b\b\b\b\b\b\b\b\b\b\b\b\b\b\b\b\b\b\b\b\b\b\b\b\b\b\b\b\b\b\b\b\b\b\b\b\b\b\b\b\b\b\b\b\b\b\r",
       "38166528/94765736 [===========&gt;..................] - ETA: 0s\b\b\b\b\b\b\b\b\b\b\b\b\b\b\b\b\b\b\b\b\b\b\b\b\b\b\b\b\b\b\b\b\b\b\b\b\b\b\b\b\b\b\b\b\b\b\b\b\b\b\b\b\b\b\b\b\b\b\b\b\r",
       "45096960/94765736 [=============&gt;................] - ETA: 0s\b\b\b\b\b\b\b\b\b\b\b\b\b\b\b\b\b\b\b\b\b\b\b\b\b\b\b\b\b\b\b\b\b\b\b\b\b\b\b\b\b\b\b\b\b\b\b\b\b\b\b\b\b\b\b\b\b\b\b\b\r",
       "52224000/94765736 [===============&gt;..............] - ETA: 0s\b\b\b\b\b\b\b\b\b\b\b\b\b\b\b\b\b\b\b\b\b\b\b\b\b\b\b\b\b\b\b\b\b\b\b\b\b\b\b\b\b\b\b\b\b\b\b\b\b\b\b\b\b\b\b\b\b\b\b\b\r",
       "58728448/94765736 [=================&gt;............] - ETA: 0s\b\b\b\b\b\b\b\b\b\b\b\b\b\b\b\b\b\b\b\b\b\b\b\b\b\b\b\b\b\b\b\b\b\b\b\b\b\b\b\b\b\b\b\b\b\b\b\b\b\b\b\b\b\b\b\b\b\b\b\b\r",
       "65593344/94765736 [===================&gt;..........] - ETA: 0s\b\b\b\b\b\b\b\b\b\b\b\b\b\b\b\b\b\b\b\b\b\b\b\b\b\b\b\b\b\b\b\b\b\b\b\b\b\b\b\b\b\b\b\b\b\b\b\b\b\b\b\b\b\b\b\b\b\b\b\b\r",
       "72613888/94765736 [=====================&gt;........] - ETA: 0s\b\b\b\b\b\b\b\b\b\b\b\b\b\b\b\b\b\b\b\b\b\b\b\b\b\b\b\b\b\b\b\b\b\b\b\b\b\b\b\b\b\b\b\b\b\b\b\b\b\b\b\b\b\b\b\b\b\b\b\b\r",
       "79519744/94765736 [========================&gt;.....] - ETA: 0s\b\b\b\b\b\b\b\b\b\b\b\b\b\b\b\b\b\b\b\b\b\b\b\b\b\b\b\b\b\b\b\b\b\b\b\b\b\b\b\b\b\b\b\b\b\b\b\b\b\b\b\b\b\b\b\b\b\b\b\b\r",
       "86532096/94765736 [==========================&gt;...] - ETA: 0s\b\b\b\b\b\b\b\b\b\b\b\b\b\b\b\b\b\b\b\b\b\b\b\b\b\b\b\b\b\b\b\b\b\b\b\b\b\b\b\b\b\b\b\b\b\b\b\b\b\b\b\b\b\b\b\b\b\b\b\b\r",
       "93544448/94765736 [============================&gt;.] - ETA: 0s\b\b\b\b\b\b\b\b\b\b\b\b\b\b\b\b\b\b\b\b\b\b\b\b\b\b\b\b\b\b\b\b\b\b\b\b\b\b\b\b\b\b\b\b\b\b\b\b\b\b\b\b\b\b\b\b\b\b\b\b\r",
       "94765736/94765736 [==============================] - 1s 0us/step\n",
       "</div>"
      ]
     },
     "metadata": {
      "application/vnd.databricks.v1+output": {
       "addedWidgets": {},
       "arguments": {},
       "data": "<div class=\"ansiout\">Downloading data from https://storage.googleapis.com/tensorflow/keras-applications/resnet/resnet50_weights_tf_dim_ordering_tf_kernels_notop.h5\n\r    8192/94765736 [..............................] - ETA: 0s\b\b\b\b\b\b\b\b\b\b\b\b\b\b\b\b\b\b\b\b\b\b\b\b\b\b\b\b\b\b\b\b\b\b\b\b\b\b\b\b\b\b\b\b\b\b\b\b\b\b\b\b\b\b\b\b\b\b\b\b\r  245760/94765736 [..............................] - ETA: 19s\b\b\b\b\b\b\b\b\b\b\b\b\b\b\b\b\b\b\b\b\b\b\b\b\b\b\b\b\b\b\b\b\b\b\b\b\b\b\b\b\b\b\b\b\b\b\b\b\b\b\b\b\b\b\b\b\b\b\b\b\b\r 3407872/94765736 [&gt;.............................] - ETA: 2s \b\b\b\b\b\b\b\b\b\b\b\b\b\b\b\b\b\b\b\b\b\b\b\b\b\b\b\b\b\b\b\b\b\b\b\b\b\b\b\b\b\b\b\b\b\b\b\b\b\b\b\b\b\b\b\b\b\b\b\b\r 5275648/94765736 [&gt;.............................] - ETA: 2s\b\b\b\b\b\b\b\b\b\b\b\b\b\b\b\b\b\b\b\b\b\b\b\b\b\b\b\b\b\b\b\b\b\b\b\b\b\b\b\b\b\b\b\b\b\b\b\b\b\b\b\b\b\b\b\b\b\b\b\b\r11558912/94765736 [==&gt;...........................] - ETA: 1s\b\b\b\b\b\b\b\b\b\b\b\b\b\b\b\b\b\b\b\b\b\b\b\b\b\b\b\b\b\b\b\b\b\b\b\b\b\b\b\b\b\b\b\b\b\b\b\b\b\b\b\b\b\b\b\b\b\b\b\b\r16957440/94765736 [====&gt;.........................] - ETA: 1s\b\b\b\b\b\b\b\b\b\b\b\b\b\b\b\b\b\b\b\b\b\b\b\b\b\b\b\b\b\b\b\b\b\b\b\b\b\b\b\b\b\b\b\b\b\b\b\b\b\b\b\b\b\b\b\b\b\b\b\b\r23994368/94765736 [======&gt;.......................] - ETA: 0s\b\b\b\b\b\b\b\b\b\b\b\b\b\b\b\b\b\b\b\b\b\b\b\b\b\b\b\b\b\b\b\b\b\b\b\b\b\b\b\b\b\b\b\b\b\b\b\b\b\b\b\b\b\b\b\b\b\b\b\b\r30744576/94765736 [========&gt;.....................] - ETA: 0s\b\b\b\b\b\b\b\b\b\b\b\b\b\b\b\b\b\b\b\b\b\b\b\b\b\b\b\b\b\b\b\b\b\b\b\b\b\b\b\b\b\b\b\b\b\b\b\b\b\b\b\b\b\b\b\b\b\b\b\b\r38166528/94765736 [===========&gt;..................] - ETA: 0s\b\b\b\b\b\b\b\b\b\b\b\b\b\b\b\b\b\b\b\b\b\b\b\b\b\b\b\b\b\b\b\b\b\b\b\b\b\b\b\b\b\b\b\b\b\b\b\b\b\b\b\b\b\b\b\b\b\b\b\b\r45096960/94765736 [=============&gt;................] - ETA: 0s\b\b\b\b\b\b\b\b\b\b\b\b\b\b\b\b\b\b\b\b\b\b\b\b\b\b\b\b\b\b\b\b\b\b\b\b\b\b\b\b\b\b\b\b\b\b\b\b\b\b\b\b\b\b\b\b\b\b\b\b\r52224000/94765736 [===============&gt;..............] - ETA: 0s\b\b\b\b\b\b\b\b\b\b\b\b\b\b\b\b\b\b\b\b\b\b\b\b\b\b\b\b\b\b\b\b\b\b\b\b\b\b\b\b\b\b\b\b\b\b\b\b\b\b\b\b\b\b\b\b\b\b\b\b\r58728448/94765736 [=================&gt;............] - ETA: 0s\b\b\b\b\b\b\b\b\b\b\b\b\b\b\b\b\b\b\b\b\b\b\b\b\b\b\b\b\b\b\b\b\b\b\b\b\b\b\b\b\b\b\b\b\b\b\b\b\b\b\b\b\b\b\b\b\b\b\b\b\r65593344/94765736 [===================&gt;..........] - ETA: 0s\b\b\b\b\b\b\b\b\b\b\b\b\b\b\b\b\b\b\b\b\b\b\b\b\b\b\b\b\b\b\b\b\b\b\b\b\b\b\b\b\b\b\b\b\b\b\b\b\b\b\b\b\b\b\b\b\b\b\b\b\r72613888/94765736 [=====================&gt;........] - ETA: 0s\b\b\b\b\b\b\b\b\b\b\b\b\b\b\b\b\b\b\b\b\b\b\b\b\b\b\b\b\b\b\b\b\b\b\b\b\b\b\b\b\b\b\b\b\b\b\b\b\b\b\b\b\b\b\b\b\b\b\b\b\r79519744/94765736 [========================&gt;.....] - ETA: 0s\b\b\b\b\b\b\b\b\b\b\b\b\b\b\b\b\b\b\b\b\b\b\b\b\b\b\b\b\b\b\b\b\b\b\b\b\b\b\b\b\b\b\b\b\b\b\b\b\b\b\b\b\b\b\b\b\b\b\b\b\r86532096/94765736 [==========================&gt;...] - ETA: 0s\b\b\b\b\b\b\b\b\b\b\b\b\b\b\b\b\b\b\b\b\b\b\b\b\b\b\b\b\b\b\b\b\b\b\b\b\b\b\b\b\b\b\b\b\b\b\b\b\b\b\b\b\b\b\b\b\b\b\b\b\r93544448/94765736 [============================&gt;.] - ETA: 0s\b\b\b\b\b\b\b\b\b\b\b\b\b\b\b\b\b\b\b\b\b\b\b\b\b\b\b\b\b\b\b\b\b\b\b\b\b\b\b\b\b\b\b\b\b\b\b\b\b\b\b\b\b\b\b\b\b\b\b\b\r94765736/94765736 [==============================] - 1s 0us/step\n</div>",
       "datasetInfos": [],
       "metadata": {},
       "removedWidgets": [],
       "type": "html"
      }
     },
     "output_type": "display_data"
    }
   ],
   "source": [
    "model = ResNet50(include_top=False)"
   ]
  },
  {
   "cell_type": "code",
   "execution_count": 0,
   "metadata": {
    "application/vnd.databricks.v1+cell": {
     "inputWidgets": {},
     "nuid": "320c196e-80fa-4ab8-958a-28b3353e15aa",
     "showTitle": false,
     "title": ""
    }
   },
   "outputs": [
    {
     "data": {
      "text/html": [
       "<style scoped>\n",
       "  .ansiout {\n",
       "    display: block;\n",
       "    unicode-bidi: embed;\n",
       "    white-space: pre-wrap;\n",
       "    word-wrap: break-word;\n",
       "    word-break: break-all;\n",
       "    font-family: \"Source Code Pro\", \"Menlo\", monospace;;\n",
       "    font-size: 13px;\n",
       "    color: #555;\n",
       "    margin-left: 4px;\n",
       "    line-height: 19px;\n",
       "  }\n",
       "</style>\n",
       "<div class=\"ansiout\"></div>"
      ]
     },
     "metadata": {
      "application/vnd.databricks.v1+output": {
       "addedWidgets": {},
       "arguments": {},
       "data": "<div class=\"ansiout\"></div>",
       "datasetInfos": [],
       "metadata": {},
       "removedWidgets": [],
       "type": "html"
      }
     },
     "output_type": "display_data"
    }
   ],
   "source": [
    "bc_model_weights = sc.broadcast(model.get_weights())"
   ]
  },
  {
   "cell_type": "code",
   "execution_count": 0,
   "metadata": {
    "application/vnd.databricks.v1+cell": {
     "inputWidgets": {},
     "nuid": "c869e9f6-7384-4f1f-b0d1-165486de4029",
     "showTitle": false,
     "title": ""
    }
   },
   "outputs": [
    {
     "data": {
      "text/html": [
       "<style scoped>\n",
       "  .ansiout {\n",
       "    display: block;\n",
       "    unicode-bidi: embed;\n",
       "    white-space: pre-wrap;\n",
       "    word-wrap: break-word;\n",
       "    word-break: break-all;\n",
       "    font-family: \"Source Code Pro\", \"Menlo\", monospace;;\n",
       "    font-size: 13px;\n",
       "    color: #555;\n",
       "    margin-left: 4px;\n",
       "    line-height: 19px;\n",
       "  }\n",
       "</style>\n",
       "<div class=\"ansiout\"></div>"
      ]
     },
     "metadata": {
      "application/vnd.databricks.v1+output": {
       "addedWidgets": {},
       "arguments": {},
       "data": "<div class=\"ansiout\"></div>",
       "datasetInfos": [],
       "metadata": {},
       "removedWidgets": [],
       "type": "html"
      }
     },
     "output_type": "display_data"
    }
   ],
   "source": [
    "def model_fn():\n",
    "    \n",
    "    model = ResNet50(weights=None, include_top=False)\n",
    "    model.set_weights(bc_model_weights.value)\n",
    "    return model"
   ]
  },
  {
   "cell_type": "code",
   "execution_count": 0,
   "metadata": {
    "application/vnd.databricks.v1+cell": {
     "inputWidgets": {},
     "nuid": "785a0c49-0f94-4990-bddd-94138efebce8",
     "showTitle": false,
     "title": ""
    }
   },
   "outputs": [
    {
     "data": {
      "text/html": [
       "<style scoped>\n",
       "  .ansiout {\n",
       "    display: block;\n",
       "    unicode-bidi: embed;\n",
       "    white-space: pre-wrap;\n",
       "    word-wrap: break-word;\n",
       "    word-break: break-all;\n",
       "    font-family: \"Source Code Pro\", \"Menlo\", monospace;;\n",
       "    font-size: 13px;\n",
       "    color: #555;\n",
       "    margin-left: 4px;\n",
       "    line-height: 19px;\n",
       "  }\n",
       "</style>\n",
       "<div class=\"ansiout\"></div>"
      ]
     },
     "metadata": {
      "application/vnd.databricks.v1+output": {
       "addedWidgets": {},
       "arguments": {},
       "data": "<div class=\"ansiout\"></div>",
       "datasetInfos": [],
       "metadata": {},
       "removedWidgets": [],
       "type": "html"
      }
     },
     "output_type": "display_data"
    }
   ],
   "source": [
    "def preprocess(content):\n",
    "    \n",
    "    img = Image.open(io.BytesIO(content)).resize([224, 224])\n",
    "    arr = img_to_array(img)\n",
    "    return preprocess_input(arr)\n",
    "    \n",
    "\n"
   ]
  },
  {
   "cell_type": "code",
   "execution_count": 0,
   "metadata": {
    "application/vnd.databricks.v1+cell": {
     "inputWidgets": {},
     "nuid": "47669a6f-0e74-481c-955f-4b063090e4e3",
     "showTitle": false,
     "title": ""
    }
   },
   "outputs": [
    {
     "data": {
      "text/html": [
       "<style scoped>\n",
       "  .ansiout {\n",
       "    display: block;\n",
       "    unicode-bidi: embed;\n",
       "    white-space: pre-wrap;\n",
       "    word-wrap: break-word;\n",
       "    word-break: break-all;\n",
       "    font-family: \"Source Code Pro\", \"Menlo\", monospace;;\n",
       "    font-size: 13px;\n",
       "    color: #555;\n",
       "    margin-left: 4px;\n",
       "    line-height: 19px;\n",
       "  }\n",
       "</style>\n",
       "<div class=\"ansiout\"></div>"
      ]
     },
     "metadata": {
      "application/vnd.databricks.v1+output": {
       "addedWidgets": {},
       "arguments": {},
       "data": "<div class=\"ansiout\"></div>",
       "datasetInfos": [],
       "metadata": {},
       "removedWidgets": [],
       "type": "html"
      }
     },
     "output_type": "display_data"
    }
   ],
   "source": [
    "def featurize_series(model, content_series):\n",
    "    input = np.stack(content_series.map(preprocess))\n",
    "    preds = model.predict(input)\n",
    "    output = [p.flatten() for p in preds]\n",
    "    return pd.Series(output)\n",
    "    "
   ]
  },
  {
   "cell_type": "code",
   "execution_count": 0,
   "metadata": {
    "application/vnd.databricks.v1+cell": {
     "inputWidgets": {},
     "nuid": "b0775550-44d4-4ac3-8cc4-fa0e42c30a62",
     "showTitle": false,
     "title": ""
    }
   },
   "outputs": [
    {
     "data": {
      "text/html": [
       "<style scoped>\n",
       "  .ansiout {\n",
       "    display: block;\n",
       "    unicode-bidi: embed;\n",
       "    white-space: pre-wrap;\n",
       "    word-wrap: break-word;\n",
       "    word-break: break-all;\n",
       "    font-family: \"Source Code Pro\", \"Menlo\", monospace;;\n",
       "    font-size: 13px;\n",
       "    color: #555;\n",
       "    margin-left: 4px;\n",
       "    line-height: 19px;\n",
       "  }\n",
       "</style>\n",
       "<div class=\"ansiout\"></div>"
      ]
     },
     "metadata": {
      "application/vnd.databricks.v1+output": {
       "addedWidgets": {},
       "arguments": {},
       "data": "<div class=\"ansiout\"></div>",
       "datasetInfos": [],
       "metadata": {},
       "removedWidgets": [],
       "type": "html"
      }
     },
     "output_type": "display_data"
    }
   ],
   "source": [
    "@pandas_udf('array<float>', PandasUDFType.SCALAR_ITER)\n",
    "def featurize_udf(content_series_iter):\n",
    "    model = model_fn()\n",
    "    for content_series in content_series_iter:\n",
    "        yield featurize_series(model, content_series)\n",
    "    "
   ]
  },
  {
   "cell_type": "code",
   "execution_count": 0,
   "metadata": {
    "application/vnd.databricks.v1+cell": {
     "inputWidgets": {},
     "nuid": "976b7683-7673-4b62-b506-108d3eccbd30",
     "showTitle": false,
     "title": ""
    }
   },
   "outputs": [
    {
     "data": {
      "text/html": [
       "<style scoped>\n",
       "  .ansiout {\n",
       "    display: block;\n",
       "    unicode-bidi: embed;\n",
       "    white-space: pre-wrap;\n",
       "    word-wrap: break-word;\n",
       "    word-break: break-all;\n",
       "    font-family: \"Source Code Pro\", \"Menlo\", monospace;;\n",
       "    font-size: 13px;\n",
       "    color: #555;\n",
       "    margin-left: 4px;\n",
       "    line-height: 19px;\n",
       "  }\n",
       "</style>\n",
       "<div class=\"ansiout\"></div>"
      ]
     },
     "metadata": {
      "application/vnd.databricks.v1+output": {
       "addedWidgets": {},
       "arguments": {},
       "data": "<div class=\"ansiout\"></div>",
       "datasetInfos": [],
       "metadata": {},
       "removedWidgets": [],
       "type": "html"
      }
     },
     "output_type": "display_data"
    }
   ],
   "source": [
    "features_df = df_img.select(col(\"path\"),col(\"label\"), featurize_udf(\"content\").alias(\"features\"))"
   ]
  },
  {
   "cell_type": "code",
   "execution_count": 0,
   "metadata": {
    "application/vnd.databricks.v1+cell": {
     "inputWidgets": {},
     "nuid": "985414f5-e2b6-454d-9d08-5cad9c484715",
     "showTitle": false,
     "title": ""
    }
   },
   "outputs": [
    {
     "data": {
      "text/html": [
       "<style scoped>\n",
       "  .ansiout {\n",
       "    display: block;\n",
       "    unicode-bidi: embed;\n",
       "    white-space: pre-wrap;\n",
       "    word-wrap: break-word;\n",
       "    word-break: break-all;\n",
       "    font-family: \"Source Code Pro\", \"Menlo\", monospace;;\n",
       "    font-size: 13px;\n",
       "    color: #555;\n",
       "    margin-left: 4px;\n",
       "    line-height: 19px;\n",
       "  }\n",
       "</style>\n",
       "<div class=\"ansiout\">+--------------------+-----------+--------------------+\n",
       "                path|      label|            features|\n",
       "+--------------------+-----------+--------------------+\n",
       "s3://elfenaouy/Im...|Cauliflower|[0.0, 0.0, 0.0, 0...|\n",
       "s3://elfenaouy/Im...|  Onion Red|[0.0, 0.0, 0.0, 0...|\n",
       "s3://elfenaouy/Im...|Cauliflower|[0.0, 0.0, 0.0, 0...|\n",
       "s3://elfenaouy/Im...|Cauliflower|[0.0, 0.0, 0.0, 0...|\n",
       "s3://elfenaouy/Im...|  Onion Red|[0.0, 0.0, 0.0, 0...|\n",
       "s3://elfenaouy/Im...|      Cocos|[0.0, 0.0, 0.0, 0...|\n",
       "s3://elfenaouy/Im...|      Cocos|[0.0, 0.0, 0.0, 0...|\n",
       "s3://elfenaouy/Im...|      Cocos|[0.0, 0.0, 0.0, 0...|\n",
       "s3://elfenaouy/Im...|  Onion Red|[0.0, 0.0, 0.0, 0...|\n",
       "s3://elfenaouy/Im...|       Plum|[0.0, 0.0, 0.0, 0...|\n",
       "s3://elfenaouy/Im...|     Orange|[0.0, 0.0, 0.0, 0...|\n",
       "s3://elfenaouy/Im...|     Orange|[0.0, 0.0, 0.0, 0...|\n",
       "s3://elfenaouy/Im...|       Plum|[0.0, 0.0, 0.0, 0...|\n",
       "s3://elfenaouy/Im...|     Orange|[0.0, 0.0, 0.0, 0...|\n",
       "s3://elfenaouy/Im...|      Peach|[0.0, 0.0, 0.0, 0...|\n",
       "s3://elfenaouy/Im...|      Peach|[0.0, 0.0, 0.0, 0...|\n",
       "s3://elfenaouy/Im...|       Plum|[0.0, 0.0, 0.0, 0...|\n",
       "s3://elfenaouy/Im...|      Peach|[0.0, 0.0, 0.0, 0...|\n",
       "s3://elfenaouy/Im...|  Tamarillo|[2.8520603, 0.0, ...|\n",
       "s3://elfenaouy/Im...|  Carambula|[0.0, 0.0, 0.0, 0...|\n",
       "+--------------------+-----------+--------------------+\n",
       "only showing top 20 rows\n",
       "\n",
       "</div>"
      ]
     },
     "metadata": {
      "application/vnd.databricks.v1+output": {
       "addedWidgets": {},
       "arguments": {},
       "data": "<div class=\"ansiout\">+--------------------+-----------+--------------------+\n|                path|      label|            features|\n+--------------------+-----------+--------------------+\n|s3://elfenaouy/Im...|Cauliflower|[0.0, 0.0, 0.0, 0...|\n|s3://elfenaouy/Im...|  Onion Red|[0.0, 0.0, 0.0, 0...|\n|s3://elfenaouy/Im...|Cauliflower|[0.0, 0.0, 0.0, 0...|\n|s3://elfenaouy/Im...|Cauliflower|[0.0, 0.0, 0.0, 0...|\n|s3://elfenaouy/Im...|  Onion Red|[0.0, 0.0, 0.0, 0...|\n|s3://elfenaouy/Im...|      Cocos|[0.0, 0.0, 0.0, 0...|\n|s3://elfenaouy/Im...|      Cocos|[0.0, 0.0, 0.0, 0...|\n|s3://elfenaouy/Im...|      Cocos|[0.0, 0.0, 0.0, 0...|\n|s3://elfenaouy/Im...|  Onion Red|[0.0, 0.0, 0.0, 0...|\n|s3://elfenaouy/Im...|       Plum|[0.0, 0.0, 0.0, 0...|\n|s3://elfenaouy/Im...|     Orange|[0.0, 0.0, 0.0, 0...|\n|s3://elfenaouy/Im...|     Orange|[0.0, 0.0, 0.0, 0...|\n|s3://elfenaouy/Im...|       Plum|[0.0, 0.0, 0.0, 0...|\n|s3://elfenaouy/Im...|     Orange|[0.0, 0.0, 0.0, 0...|\n|s3://elfenaouy/Im...|      Peach|[0.0, 0.0, 0.0, 0...|\n|s3://elfenaouy/Im...|      Peach|[0.0, 0.0, 0.0, 0...|\n|s3://elfenaouy/Im...|       Plum|[0.0, 0.0, 0.0, 0...|\n|s3://elfenaouy/Im...|      Peach|[0.0, 0.0, 0.0, 0...|\n|s3://elfenaouy/Im...|  Tamarillo|[2.8520603, 0.0, ...|\n|s3://elfenaouy/Im...|  Carambula|[0.0, 0.0, 0.0, 0...|\n+--------------------+-----------+--------------------+\nonly showing top 20 rows\n\n</div>",
       "datasetInfos": [],
       "metadata": {},
       "removedWidgets": [],
       "type": "html"
      }
     },
     "output_type": "display_data"
    }
   ],
   "source": [
    "features_df.show(20)"
   ]
  },
  {
   "cell_type": "markdown",
   "metadata": {},
   "source": [
    "# Réduction de dimension , PCA (API saprkMLib):\n"
   ]
  },
  {
   "cell_type": "code",
   "execution_count": 0,
   "metadata": {
    "application/vnd.databricks.v1+cell": {
     "inputWidgets": {},
     "nuid": "f4ca0dbc-85dd-4a86-958d-d60e6888410d",
     "showTitle": false,
     "title": ""
    }
   },
   "outputs": [
    {
     "data": {
      "text/html": [
       "<style scoped>\n",
       "  .ansiout {\n",
       "    display: block;\n",
       "    unicode-bidi: embed;\n",
       "    white-space: pre-wrap;\n",
       "    word-wrap: break-word;\n",
       "    word-break: break-all;\n",
       "    font-family: \"Source Code Pro\", \"Menlo\", monospace;;\n",
       "    font-size: 13px;\n",
       "    color: #555;\n",
       "    margin-left: 4px;\n",
       "    line-height: 19px;\n",
       "  }\n",
       "</style>\n",
       "<div class=\"ansiout\"></div>"
      ]
     },
     "metadata": {
      "application/vnd.databricks.v1+output": {
       "addedWidgets": {},
       "arguments": {},
       "data": "<div class=\"ansiout\"></div>",
       "datasetInfos": [],
       "metadata": {},
       "removedWidgets": [],
       "type": "html"
      }
     },
     "output_type": "display_data"
    }
   ],
   "source": [
    "from pyspark.sql.functions import udf\n",
    "from pyspark.ml.linalg import Vectors, VectorUDT\n",
    "#convert array to vecteur dense\n",
    "to_vector = udf(lambda x: Vectors.dense(x), VectorUDT())\n",
    "sparkDF = features_df.select('path', 'label','features', to_vector(\"features\").alias(\"features_vec\"))"
   ]
  },
  {
   "cell_type": "code",
   "execution_count": 0,
   "metadata": {
    "application/vnd.databricks.v1+cell": {
     "inputWidgets": {},
     "nuid": "4a6289bd-151d-41f6-8beb-e9b18765c973",
     "showTitle": false,
     "title": ""
    }
   },
   "outputs": [
    {
     "data": {
      "text/html": [
       "<style scoped>\n",
       "  .ansiout {\n",
       "    display: block;\n",
       "    unicode-bidi: embed;\n",
       "    white-space: pre-wrap;\n",
       "    word-wrap: break-word;\n",
       "    word-break: break-all;\n",
       "    font-family: \"Source Code Pro\", \"Menlo\", monospace;;\n",
       "    font-size: 13px;\n",
       "    color: #555;\n",
       "    margin-left: 4px;\n",
       "    line-height: 19px;\n",
       "  }\n",
       "</style>\n",
       "<div class=\"ansiout\">+--------------------+-----------+--------------------+--------------------+\n",
       "                path|      label|            features|        features_vec|\n",
       "+--------------------+-----------+--------------------+--------------------+\n",
       "s3://elfenaouy/Im...|Cauliflower|[0.0, 0.0, 0.0, 0...|[0.0,0.0,0.0,0.0,...|\n",
       "s3://elfenaouy/Im...|  Onion Red|[0.0, 0.0, 0.0, 0...|[0.0,0.0,0.0,0.0,...|\n",
       "s3://elfenaouy/Im...|Cauliflower|[0.0, 0.0, 0.0, 0...|[0.0,0.0,0.0,0.0,...|\n",
       "s3://elfenaouy/Im...|Cauliflower|[0.0, 0.0, 0.0, 0...|[0.0,0.0,0.0,0.0,...|\n",
       "s3://elfenaouy/Im...|  Onion Red|[0.0, 0.0, 0.0, 0...|[0.0,0.0,0.0,0.0,...|\n",
       "s3://elfenaouy/Im...|      Cocos|[0.0, 0.0, 0.0, 0...|[0.0,0.0,0.0,0.0,...|\n",
       "s3://elfenaouy/Im...|      Cocos|[0.0, 0.0, 0.0, 0...|[0.0,0.0,0.0,0.0,...|\n",
       "s3://elfenaouy/Im...|      Cocos|[0.0, 0.0, 0.0, 0...|[0.0,0.0,0.0,0.0,...|\n",
       "s3://elfenaouy/Im...|  Onion Red|[0.0, 0.0, 0.0, 0...|[0.0,0.0,0.0,0.0,...|\n",
       "s3://elfenaouy/Im...|       Plum|[0.0, 0.0, 0.0, 0...|[0.0,0.0,0.0,0.0,...|\n",
       "s3://elfenaouy/Im...|     Orange|[0.0, 0.0, 0.0, 0...|[0.0,0.0,0.0,0.0,...|\n",
       "s3://elfenaouy/Im...|     Orange|[0.0, 0.0, 0.0, 0...|[0.0,0.0,0.0,0.0,...|\n",
       "s3://elfenaouy/Im...|       Plum|[0.0, 0.0, 0.0, 0...|[0.0,0.0,0.0,0.0,...|\n",
       "s3://elfenaouy/Im...|     Orange|[0.0, 0.0, 0.0, 0...|[0.0,0.0,0.0,0.0,...|\n",
       "s3://elfenaouy/Im...|      Peach|[0.0, 0.0, 0.0, 0...|[0.0,0.0,0.0,0.0,...|\n",
       "s3://elfenaouy/Im...|      Peach|[0.0, 0.0, 0.0, 0...|[0.0,0.0,0.0,0.0,...|\n",
       "s3://elfenaouy/Im...|       Plum|[0.0, 0.0, 0.0, 0...|[0.0,0.0,0.0,0.0,...|\n",
       "s3://elfenaouy/Im...|      Peach|[0.0, 0.0, 0.0, 0...|[0.0,0.0,0.0,0.0,...|\n",
       "s3://elfenaouy/Im...|  Tamarillo|[2.8520603, 0.0, ...|[2.85206031799316...|\n",
       "s3://elfenaouy/Im...|  Carambula|[0.0, 0.0, 0.0, 0...|[0.0,0.0,0.0,0.0,...|\n",
       "+--------------------+-----------+--------------------+--------------------+\n",
       "only showing top 20 rows\n",
       "\n",
       "</div>"
      ]
     },
     "metadata": {
      "application/vnd.databricks.v1+output": {
       "addedWidgets": {},
       "arguments": {},
       "data": "<div class=\"ansiout\">+--------------------+-----------+--------------------+--------------------+\n|                path|      label|            features|        features_vec|\n+--------------------+-----------+--------------------+--------------------+\n|s3://elfenaouy/Im...|Cauliflower|[0.0, 0.0, 0.0, 0...|[0.0,0.0,0.0,0.0,...|\n|s3://elfenaouy/Im...|  Onion Red|[0.0, 0.0, 0.0, 0...|[0.0,0.0,0.0,0.0,...|\n|s3://elfenaouy/Im...|Cauliflower|[0.0, 0.0, 0.0, 0...|[0.0,0.0,0.0,0.0,...|\n|s3://elfenaouy/Im...|Cauliflower|[0.0, 0.0, 0.0, 0...|[0.0,0.0,0.0,0.0,...|\n|s3://elfenaouy/Im...|  Onion Red|[0.0, 0.0, 0.0, 0...|[0.0,0.0,0.0,0.0,...|\n|s3://elfenaouy/Im...|      Cocos|[0.0, 0.0, 0.0, 0...|[0.0,0.0,0.0,0.0,...|\n|s3://elfenaouy/Im...|      Cocos|[0.0, 0.0, 0.0, 0...|[0.0,0.0,0.0,0.0,...|\n|s3://elfenaouy/Im...|      Cocos|[0.0, 0.0, 0.0, 0...|[0.0,0.0,0.0,0.0,...|\n|s3://elfenaouy/Im...|  Onion Red|[0.0, 0.0, 0.0, 0...|[0.0,0.0,0.0,0.0,...|\n|s3://elfenaouy/Im...|       Plum|[0.0, 0.0, 0.0, 0...|[0.0,0.0,0.0,0.0,...|\n|s3://elfenaouy/Im...|     Orange|[0.0, 0.0, 0.0, 0...|[0.0,0.0,0.0,0.0,...|\n|s3://elfenaouy/Im...|     Orange|[0.0, 0.0, 0.0, 0...|[0.0,0.0,0.0,0.0,...|\n|s3://elfenaouy/Im...|       Plum|[0.0, 0.0, 0.0, 0...|[0.0,0.0,0.0,0.0,...|\n|s3://elfenaouy/Im...|     Orange|[0.0, 0.0, 0.0, 0...|[0.0,0.0,0.0,0.0,...|\n|s3://elfenaouy/Im...|      Peach|[0.0, 0.0, 0.0, 0...|[0.0,0.0,0.0,0.0,...|\n|s3://elfenaouy/Im...|      Peach|[0.0, 0.0, 0.0, 0...|[0.0,0.0,0.0,0.0,...|\n|s3://elfenaouy/Im...|       Plum|[0.0, 0.0, 0.0, 0...|[0.0,0.0,0.0,0.0,...|\n|s3://elfenaouy/Im...|      Peach|[0.0, 0.0, 0.0, 0...|[0.0,0.0,0.0,0.0,...|\n|s3://elfenaouy/Im...|  Tamarillo|[2.8520603, 0.0, ...|[2.85206031799316...|\n|s3://elfenaouy/Im...|  Carambula|[0.0, 0.0, 0.0, 0...|[0.0,0.0,0.0,0.0,...|\n+--------------------+-----------+--------------------+--------------------+\nonly showing top 20 rows\n\n</div>",
       "datasetInfos": [],
       "metadata": {},
       "removedWidgets": [],
       "type": "html"
      }
     },
     "output_type": "display_data"
    }
   ],
   "source": [
    "sparkDF.show()"
   ]
  },
  {
   "cell_type": "code",
   "execution_count": 0,
   "metadata": {
    "application/vnd.databricks.v1+cell": {
     "inputWidgets": {},
     "nuid": "e55070f0-315b-49e7-baf4-dee4642e302c",
     "showTitle": false,
     "title": ""
    }
   },
   "outputs": [
    {
     "data": {
      "text/html": [
       "<style scoped>\n",
       "  .ansiout {\n",
       "    display: block;\n",
       "    unicode-bidi: embed;\n",
       "    white-space: pre-wrap;\n",
       "    word-wrap: break-word;\n",
       "    word-break: break-all;\n",
       "    font-family: \"Source Code Pro\", \"Menlo\", monospace;;\n",
       "    font-size: 13px;\n",
       "    color: #555;\n",
       "    margin-left: 4px;\n",
       "    line-height: 19px;\n",
       "  }\n",
       "</style>\n",
       "<div class=\"ansiout\"></div>"
      ]
     },
     "metadata": {
      "application/vnd.databricks.v1+output": {
       "addedWidgets": {},
       "arguments": {},
       "data": "<div class=\"ansiout\"></div>",
       "datasetInfos": [],
       "metadata": {},
       "removedWidgets": [],
       "type": "html"
      }
     },
     "output_type": "display_data"
    }
   ],
   "source": [
    "from pyspark.ml.feature import PCA\n",
    "pcaSparkEstimator = PCA(inputCol=\"features_vec\", outputCol=\"pca_Features\", k=100)\n",
    "pca = pcaSparkEstimator.fit(sparkDF)\n",
    "\n"
   ]
  },
  {
   "cell_type": "code",
   "execution_count": 0,
   "metadata": {
    "application/vnd.databricks.v1+cell": {
     "inputWidgets": {},
     "nuid": "220f3a22-6ace-492f-a1d4-b49916a03576",
     "showTitle": false,
     "title": ""
    }
   },
   "outputs": [
    {
     "data": {
      "text/html": [
       "<style scoped>\n",
       "  .ansiout {\n",
       "    display: block;\n",
       "    unicode-bidi: embed;\n",
       "    white-space: pre-wrap;\n",
       "    word-wrap: break-word;\n",
       "    word-break: break-all;\n",
       "    font-family: \"Source Code Pro\", \"Menlo\", monospace;;\n",
       "    font-size: 13px;\n",
       "    color: #555;\n",
       "    margin-left: 4px;\n",
       "    line-height: 19px;\n",
       "  }\n",
       "</style>\n",
       "<div class=\"ansiout\"></div>"
      ]
     },
     "metadata": {
      "application/vnd.databricks.v1+output": {
       "addedWidgets": {},
       "arguments": {},
       "data": "<div class=\"ansiout\"></div>",
       "datasetInfos": [],
       "metadata": {},
       "removedWidgets": [],
       "type": "html"
      }
     },
     "output_type": "display_data"
    }
   ],
   "source": [
    "pca_matrix=pca.transform(sparkDF)"
   ]
  },
  {
   "cell_type": "code",
   "execution_count": 0,
   "metadata": {
    "application/vnd.databricks.v1+cell": {
     "inputWidgets": {},
     "nuid": "4b49945d-5c17-4289-a591-b771e449b4cc",
     "showTitle": false,
     "title": ""
    }
   },
   "outputs": [
    {
     "data": {
      "text/html": [
       "<style scoped>\n",
       "  .ansiout {\n",
       "    display: block;\n",
       "    unicode-bidi: embed;\n",
       "    white-space: pre-wrap;\n",
       "    word-wrap: break-word;\n",
       "    word-break: break-all;\n",
       "    font-family: \"Source Code Pro\", \"Menlo\", monospace;;\n",
       "    font-size: 13px;\n",
       "    color: #555;\n",
       "    margin-left: 4px;\n",
       "    line-height: 19px;\n",
       "  }\n",
       "</style>\n",
       "<div class=\"ansiout\"></div>"
      ]
     },
     "metadata": {
      "application/vnd.databricks.v1+output": {
       "addedWidgets": {},
       "arguments": {},
       "data": "<div class=\"ansiout\"></div>",
       "datasetInfos": [],
       "metadata": {},
       "removedWidgets": [],
       "type": "html"
      }
     },
     "output_type": "display_data"
    }
   ],
   "source": [
    "import seaborn as sns\n",
    "import matplotlib.pyplot as plt\n",
    "var = pca.explainedVariance.cumsum()\n"
   ]
  },
  {
   "cell_type": "code",
   "execution_count": 0,
   "metadata": {
    "application/vnd.databricks.v1+cell": {
     "inputWidgets": {},
     "nuid": "c10daebd-cd24-484f-a772-20b667260b37",
     "showTitle": false,
     "title": ""
    }
   },
   "outputs": [
    {
     "data": {
      "text/html": [
       "<style scoped>\n",
       "  .ansiout {\n",
       "    display: block;\n",
       "    unicode-bidi: embed;\n",
       "    white-space: pre-wrap;\n",
       "    word-wrap: break-word;\n",
       "    word-break: break-all;\n",
       "    font-family: \"Source Code Pro\", \"Menlo\", monospace;;\n",
       "    font-size: 13px;\n",
       "    color: #555;\n",
       "    margin-left: 4px;\n",
       "    line-height: 19px;\n",
       "  }\n",
       "</style>\n",
       "<div class=\"ansiout\">[0.09810501 0.16724783 0.22664285 0.28170633 0.32788899 0.37216908\n",
       " 0.41588596 0.45666112 0.49536035 0.53292549 0.56681831 0.59695038\n",
       " 0.62485253 0.65087997 0.67614435 0.69911636 0.72024155 0.74001398\n",
       " 0.75886943 0.77698248 0.79260892 0.80647196 0.81879885 0.83035303\n",
       " 0.84092195 0.85052818 0.85993533 0.86848201 0.87631098 0.88389719\n",
       " 0.89106505 0.89770235 0.90350065 0.90910415 0.91446517 0.919391\n",
       " 0.92419279 0.92893201 0.93342873 0.93778707 0.94204726 0.94603982\n",
       " 0.94988771 0.95348967 0.95684754 0.96012564 0.96283144 0.96542749\n",
       " 0.96793831 0.97040439 0.97261778 0.97474816 0.97679905 0.97861075\n",
       " 0.98026049 0.98183746 0.98340496 0.98488627 0.98633523 0.98770311\n",
       " 0.98905518 0.99029408 0.99149166 0.99265758 0.99368741 0.99459616\n",
       " 0.99547762 0.99627865 0.9970689  0.99782843 0.99847656 0.99907216\n",
       " 0.99955145 1.         1.        ]\n",
       "</div>"
      ]
     },
     "metadata": {
      "application/vnd.databricks.v1+output": {
       "addedWidgets": {},
       "arguments": {},
       "data": "<div class=\"ansiout\">[0.09810501 0.16724783 0.22664285 0.28170633 0.32788899 0.37216908\n 0.41588596 0.45666112 0.49536035 0.53292549 0.56681831 0.59695038\n 0.62485253 0.65087997 0.67614435 0.69911636 0.72024155 0.74001398\n 0.75886943 0.77698248 0.79260892 0.80647196 0.81879885 0.83035303\n 0.84092195 0.85052818 0.85993533 0.86848201 0.87631098 0.88389719\n 0.89106505 0.89770235 0.90350065 0.90910415 0.91446517 0.919391\n 0.92419279 0.92893201 0.93342873 0.93778707 0.94204726 0.94603982\n 0.94988771 0.95348967 0.95684754 0.96012564 0.96283144 0.96542749\n 0.96793831 0.97040439 0.97261778 0.97474816 0.97679905 0.97861075\n 0.98026049 0.98183746 0.98340496 0.98488627 0.98633523 0.98770311\n 0.98905518 0.99029408 0.99149166 0.99265758 0.99368741 0.99459616\n 0.99547762 0.99627865 0.9970689  0.99782843 0.99847656 0.99907216\n 0.99955145 1.         1.        ]\n</div>",
       "datasetInfos": [],
       "metadata": {},
       "removedWidgets": [],
       "type": "html"
      }
     },
     "output_type": "display_data"
    }
   ],
   "source": [
    "print(var)"
   ]
  },
  {
   "cell_type": "markdown",
   "metadata": {},
   "source": [
    "# Sauvegarde des résultats sur  bucket  S3"
   ]
  },
  {
   "cell_type": "code",
   "execution_count": 0,
   "metadata": {
    "application/vnd.databricks.v1+cell": {
     "inputWidgets": {},
     "nuid": "ad9e8121-0acd-48d0-b125-30d139cf65f3",
     "showTitle": false,
     "title": ""
    }
   },
   "outputs": [
    {
     "data": {
      "text/html": [
       "<style scoped>\n",
       "  .ansiout {\n",
       "    display: block;\n",
       "    unicode-bidi: embed;\n",
       "    white-space: pre-wrap;\n",
       "    word-wrap: break-word;\n",
       "    word-break: break-all;\n",
       "    font-family: \"Source Code Pro\", \"Menlo\", monospace;;\n",
       "    font-size: 13px;\n",
       "    color: #555;\n",
       "    margin-left: 4px;\n",
       "    line-height: 19px;\n",
       "  }\n",
       "</style>\n",
       "<div class=\"ansiout\">Out[39]: {&#39;ResponseMetadata&#39;: {&#39;RequestId&#39;: &#39;DN5T1HXM4KBHWYMX&#39;,\n",
       "  &#39;HostId&#39;: &#39;coDFIM9C8hxb0g3mR3Pdq44KUaj1uqiJ45WKFvrh7+rTugdlSaj09Q9fdqkqRLky7WPoZBtQ3Hw=&#39;,\n",
       "  &#39;HTTPStatusCode&#39;: 200,\n",
       "  &#39;HTTPHeaders&#39;: {&#39;x-amz-id-2&#39;: &#39;coDFIM9C8hxb0g3mR3Pdq44KUaj1uqiJ45WKFvrh7+rTugdlSaj09Q9fdqkqRLky7WPoZBtQ3Hw=&#39;,\n",
       "   &#39;x-amz-request-id&#39;: &#39;DN5T1HXM4KBHWYMX&#39;,\n",
       "   &#39;date&#39;: &#39;Sat, 15 Oct 2022 11:19:44 GMT&#39;,\n",
       "   &#39;etag&#39;: &#39;&#34;9f85aa6e035944bdef2aeabef9086845&#34;&#39;,\n",
       "   &#39;server&#39;: &#39;AmazonS3&#39;,\n",
       "   &#39;content-length&#39;: &#39;0&#39;},\n",
       "  &#39;RetryAttempts&#39;: 1},\n",
       " &#39;ETag&#39;: &#39;&#34;9f85aa6e035944bdef2aeabef9086845&#34;&#39;}</div>"
      ]
     },
     "metadata": {
      "application/vnd.databricks.v1+output": {
       "addedWidgets": {},
       "arguments": {},
       "data": "<div class=\"ansiout\">Out[39]: {&#39;ResponseMetadata&#39;: {&#39;RequestId&#39;: &#39;DN5T1HXM4KBHWYMX&#39;,\n  &#39;HostId&#39;: &#39;coDFIM9C8hxb0g3mR3Pdq44KUaj1uqiJ45WKFvrh7+rTugdlSaj09Q9fdqkqRLky7WPoZBtQ3Hw=&#39;,\n  &#39;HTTPStatusCode&#39;: 200,\n  &#39;HTTPHeaders&#39;: {&#39;x-amz-id-2&#39;: &#39;coDFIM9C8hxb0g3mR3Pdq44KUaj1uqiJ45WKFvrh7+rTugdlSaj09Q9fdqkqRLky7WPoZBtQ3Hw=&#39;,\n   &#39;x-amz-request-id&#39;: &#39;DN5T1HXM4KBHWYMX&#39;,\n   &#39;date&#39;: &#39;Sat, 15 Oct 2022 11:19:44 GMT&#39;,\n   &#39;etag&#39;: &#39;&#34;9f85aa6e035944bdef2aeabef9086845&#34;&#39;,\n   &#39;server&#39;: &#39;AmazonS3&#39;,\n   &#39;content-length&#39;: &#39;0&#39;},\n  &#39;RetryAttempts&#39;: 1},\n &#39;ETag&#39;: &#39;&#34;9f85aa6e035944bdef2aeabef9086845&#34;&#39;}</div>",
       "datasetInfos": [],
       "metadata": {},
       "removedWidgets": [],
       "type": "html"
      }
     },
     "output_type": "display_data"
    }
   ],
   "source": [
    "# Save Spark DataFrame to S3\n",
    "#https://stackoverflow.com/questions/38154040/save-dataframe-to-csv-directly-to-s3-python\n",
    "#https://sagemaker-examples.readthedocs.io/en/latest/introduction_to_amazon_algorithms/pca_mnist/pca_mnist.html\n",
    "from io import StringIO # python3; python2: BytesIO \n",
    "\n",
    "bucket = 'elfenaouy' # already created on S3\n",
    "csv_buffer = StringIO()\n",
    "pca_matrix.toPandas().to_csv(csv_buffer)\n",
    "s3_resource = boto3.resource('s3')\n",
    "s3_resource.Object(bucket, 'pca_matrix_1.csv').put(Body=csv_buffer.getvalue())"
   ]
  }
 ],
 "metadata": {
  "application/vnd.databricks.v1+notebook": {
   "dashboards": [],
   "language": "python",
   "notebookMetadata": {
    "pythonIndentUnit": 4
   },
   "notebookName": "featurization",
   "notebookOrigID": 4401611653090884,
   "widgets": {}
  },
  "kernelspec": {
   "display_name": "Python 3 (ipykernel)",
   "language": "python",
   "name": "python3"
  },
  "language_info": {
   "codemirror_mode": {
    "name": "ipython",
    "version": 3
   },
   "file_extension": ".py",
   "mimetype": "text/x-python",
   "name": "python",
   "nbconvert_exporter": "python",
   "pygments_lexer": "ipython3",
   "version": "3.7.0"
  }
 },
 "nbformat": 4,
 "nbformat_minor": 1
}
